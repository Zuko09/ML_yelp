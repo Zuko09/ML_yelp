{
 "cells": [
  {
   "cell_type": "code",
   "execution_count": 3,
   "metadata": {
    "collapsed": false,
    "deletable": true,
    "editable": true
   },
   "outputs": [
    {
     "data": {
      "text/plain": [
       "['competition-datasets/projectgroup13_lan-gauge-dataset/train',\n",
       " 'competition-datasets/projectgroup22_FraudBGone-dataset/train',\n",
       " 'competition-datasets/projectgroup25_washington-flights-dataset/train',\n",
       " 'competition-datasets/projectgroup42_breastcancer-dataset/train',\n",
       " 'competition-datasets/projectgroup5_VANGOGHORNO-dataset/train',\n",
       " 'competition-datasets/projectgroup7_mushroom-edibility-dataset/train',\n",
       " 'competition-datasets/projectgroup8_miri-playlist-dataset/train']"
      ]
     },
     "execution_count": 3,
     "metadata": {},
     "output_type": "execute_result"
    }
   ],
   "source": [
    "from os import listdir\n",
    "from os.path import isfile, join\n",
    "\n",
    "import pandas as pd\n",
    "import numpy as np\n",
    "import matplotlib.pyplot as plt\n",
    "\n",
    "'''\n",
    "['competition-datasets/projectgroup13_lan-gauge-dataset/train',\n",
    " 'competition-datasets/projectgroup22_FraudBGone-dataset/train',\n",
    " 'competition-datasets/projectgroup25_washington-flights-dataset/train', WORKING ON\n",
    " 'competition-datasets/projectgroup42_breastcancer-dataset/train',\n",
    " 'competition-datasets/projectgroup5_VANGOGHORNO-dataset/train',\n",
    " 'competition-datasets/projectgroup7_mushroom-edibility-dataset/train',\n",
    " 'competition-datasets/projectgroup8_miri-playlist-dataset/train'] DONE\n",
    "'''\n",
    "\n",
    "\n",
    "project_paths = [join('competition-datasets/', f, 'train') for f in listdir('competition-datasets/')]\n",
    "project_paths\n",
    "\n"
   ]
  },
  {
   "cell_type": "code",
   "execution_count": 104,
   "metadata": {
    "collapsed": false,
    "deletable": true,
    "editable": true
   },
   "outputs": [],
   "source": [
    "miri_dataset = pd.read_pickle('miri_dataset.pandas')\n",
    "wash_flights_dataset = pd.read_pickle('washington_flights_dataset.pandas')"
   ]
  },
  {
   "cell_type": "code",
   "execution_count": 89,
   "metadata": {
    "collapsed": false,
    "deletable": true,
    "editable": true,
    "scrolled": false
   },
   "outputs": [],
   "source": [
    "'''miri_dataset'''\n",
    "train_path = project_paths[-1]\n",
    "feature_labels = ['acousticness', 'danceability','energy', 'instrumentalness', 'liveness', 'speechiness', 'tempo', 'valence']\n",
    "allfiles = [f for f in listdir(train_path) if isfile(join(train_path, f))]\n",
    "df = pd.concat((pd.read_csv(join(train_path, f), header=None).assign(filename=f.split('.')[0]) for f in allfiles)).set_index('filename')\n",
    "df.columns = feature_labels\n",
    "df.to_pickle('miri_dataset.pandas')"
   ]
  },
  {
   "cell_type": "code",
   "execution_count": 103,
   "metadata": {
    "collapsed": false,
    "deletable": true,
    "editable": true,
    "scrolled": false
   },
   "outputs": [],
   "source": [
    "'''washington_flights_dataset'''\n",
    "train_path = project_paths[2]\n",
    "feature_labels = [ 'Day of Month', 'Day of Week', 'Airline Carrier',' Origin Airport ID', 'Destination Airport ID', 'Departure Time', 'Departure Delay', 'Arrival Time', 'Distance']\n",
    "allfiles = [f for f in listdir(train_path) if isfile(join(train_path, f))]\n",
    "df = pd.concat((pd.read_csv(join(train_path, f), header=None).assign(filename=f.split('.')[0]) for f in allfiles)).set_index('filename')\n",
    "df.columns = feature_labels\n",
    "df.to_pickle('washington_flights_dataset.pandas')\n",
    "# df"
   ]
  },
  {
   "cell_type": "code",
   "execution_count": 106,
   "metadata": {
    "collapsed": false,
    "deletable": true,
    "editable": true
   },
   "outputs": [
    {
     "data": {
      "text/plain": [
       "'competition-datasets/projectgroup22_FraudBGone-dataset/train'"
      ]
     },
     "execution_count": 106,
     "metadata": {},
     "output_type": "execute_result"
    }
   ],
   "source": [
    "train_path"
   ]
  },
  {
   "cell_type": "code",
   "execution_count": 1,
   "metadata": {
    "collapsed": false,
    "deletable": true,
    "editable": true
   },
   "outputs": [],
   "source": [
    "'''FraudBGone_dataset'''\n",
    "train_path = project_paths[1]\n",
    "feature_labels = ['rating', 'reviewText', 'productRatingsDistribution', 'reviewerRatingsDistribution'] \n",
    "allfiles = [f for f in listdir(train_path) if isfile(join(train_path, f))]\n",
    "df = pd.concat((pd.read_csv(join(train_path, f), header=None).assign(filename=f) for f in allfiles)).set_index('filename')\n",
    "df.columns = feature_labels\n",
    "df.to_pickle('FraudBGone_dataset.pandas')"
   ]
  },
  {
   "cell_type": "code",
   "execution_count": 27,
   "metadata": {
    "collapsed": false,
    "deletable": true,
    "editable": true
   },
   "outputs": [],
   "source": [
    "# '''vangoph_dataset'''\n",
    "# from PIL import Image\n",
    "# import pickle\n",
    "\n",
    "# train_path = project_paths[4]\n",
    "# allfiles = [f for f in listdir(train_path) if isfile(join(train_path, f))]\n",
    "# images = [np.asarray(Image.open(join(train_path, f)).convert(\"RGB\"), dtype=np.float32) / 255 for f in allfiles] \n",
    "# with open('vangoph_dataset.pickle', 'wb') as f:\n",
    "#     pickle.dump(images, f)\n",
    "# f.close()\n",
    "\n",
    "# f_2 = open('vangoph_dataset.pickle', 'r')\n",
    "# new_images = pickle.load(f_2)\n",
    "# f_2 = open('vangoph_dataset.pickle', 'r')\n",
    "# f_2.read()\n",
    "\n",
    "with open('vangoph_dataset.pickle', 'wb') as f:\n",
    "    pickle.dump(images, f)\n"
   ]
  },
  {
   "cell_type": "code",
   "execution_count": 28,
   "metadata": {
    "collapsed": true
   },
   "outputs": [],
   "source": [
    "f_2 = open('vangoph_dataset.pickle', 'r')\n",
    "new_images = pickle.load(f_2)"
   ]
  },
  {
   "cell_type": "code",
   "execution_count": 29,
   "metadata": {
    "collapsed": false
   },
   "outputs": [
    {
     "data": {
      "text/plain": [
       "481"
      ]
     },
     "execution_count": 29,
     "metadata": {},
     "output_type": "execute_result"
    }
   ],
   "source": [
    "len(new_images)"
   ]
  },
  {
   "cell_type": "code",
   "execution_count": null,
   "metadata": {
    "collapsed": true
   },
   "outputs": [],
   "source": []
  }
 ],
 "metadata": {
  "kernelspec": {
   "display_name": "Python 2",
   "language": "python",
   "name": "python2"
  },
  "language_info": {
   "codemirror_mode": {
    "name": "ipython",
    "version": 2
   },
   "file_extension": ".py",
   "mimetype": "text/x-python",
   "name": "python",
   "nbconvert_exporter": "python",
   "pygments_lexer": "ipython2",
   "version": "2.7.13"
  }
 },
 "nbformat": 4,
 "nbformat_minor": 2
}
