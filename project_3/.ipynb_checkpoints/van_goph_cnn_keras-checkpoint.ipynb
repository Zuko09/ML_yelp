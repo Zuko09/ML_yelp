{
 "cells": [
  {
   "cell_type": "code",
   "execution_count": 23,
   "metadata": {
    "collapsed": false,
    "scrolled": false
   },
   "outputs": [
    {
     "data": {
      "text/plain": [
       "((377,), (104,))"
      ]
     },
     "execution_count": 23,
     "metadata": {},
     "output_type": "execute_result"
    }
   ],
   "source": [
    "import keras\n",
    "import numpy as np\n",
    "import pickle\n",
    "\n",
    "# dataset_reader = open('vangoph_dataset.pickle', 'r')\n",
    "# images = pickle.load(dataset_reader)\n",
    "# dataset_reader.close()\n",
    "\n",
    "size = len(images)\n",
    "split = 0.25\n",
    "train_idx = np.random.choice(size, int(split*size))\n",
    "images = np.array(images)\n",
    "\n",
    "mask = np.ones(len(images),dtype=bool) #np.ones_like(a,dtype=bool)\n",
    "mask[train_idx] = False\n",
    "\n",
    "train = images[mask]\n",
    "dev =  images[~mask]"
   ]
  },
  {
   "cell_type": "code",
   "execution_count": null,
   "metadata": {
    "collapsed": true
   },
   "outputs": [],
   "source": []
  },
  {
   "cell_type": "code",
   "execution_count": 32,
   "metadata": {
    "collapsed": false
   },
   "outputs": [
    {
     "name": "stdout",
     "output_type": "stream",
     "text": [
      "[(300, 162, 3), (300, 227, 3), (141, 300, 3), (300, 300, 3), (300, 249, 3), (300, 184, 3), (300, 262, 3), (300, 213, 3), (163, 300, 3), (223, 300, 3), (209, 300, 3), (300, 280, 3), (251, 300, 3), (300, 232, 3), (300, 213, 3), (300, 237, 3), (300, 241, 3), (300, 245, 3), (300, 299, 3), (300, 180, 3), (139, 300, 3), (239, 300, 3), (213, 300, 3), (300, 232, 3), (300, 233, 3), (300, 229, 3), (300, 244, 3), (300, 237, 3), (227, 300, 3), (211, 300, 3), (246, 300, 3), (225, 300, 3), (229, 300, 3), (407, 512, 3), (391, 512, 3), (227, 300, 3), (300, 255, 3), (553, 700, 3), (216, 300, 3), (240, 300, 3), (1024, 669, 3), (213, 300, 3), (497, 700, 3), (253, 300, 3), (518, 700, 3), (300, 236, 3), (230, 300, 3), (505, 700, 3), (300, 180, 3), (183, 300, 3), (300, 211, 3), (700, 549, 3), (523, 700, 3), (700, 462, 3), (594, 700, 3), (567, 700, 3), (700, 536, 3), (500, 700, 3), (404, 512, 3), (700, 598, 3), (700, 534, 3), (656, 700, 3), (700, 573, 3), (538, 700, 3), (700, 564, 3), (420, 512, 3), (512, 420, 3), (439, 700, 3), (515, 700, 3), (458, 700, 3), (508, 700, 3), (406, 512, 3), (554, 700, 3), (700, 504, 3), (547, 700, 3), (395, 512, 3), (682, 700, 3), (700, 576, 3), (700, 660, 3), (700, 550, 3), (362, 512, 3), (700, 552, 3), (512, 391, 3), (411, 512, 3), (512, 398, 3), (512, 356, 3), (358, 512, 3), (367, 512, 3), (512, 389, 3), (512, 372, 3), (410, 512, 3), (429, 512, 3), (378, 512, 3), (376, 512, 3), (512, 388, 3), (512, 417, 3), (512, 360, 3), (512, 359, 3), (406, 512, 3), (512, 391, 3), (281, 512, 3), (512, 411, 3), (512, 365, 3), (512, 401, 3)]\n"
     ]
    }
   ],
   "source": [
    "input_shape = dev.shape\n",
    "num_classes = 2\n",
    "# print([dev[i].shape for i in range(len(dev))])\n",
    "\n",
    "model = Sequential()\n",
    "model.add(Conv2D(32, kernel_size(5, 5), strides=(1,1),\n",
    "                activation='relu',\n",
    "                input_shape=(None, None, 3)))\n",
    "model.add(MaxPooling2D(pool_size=(2, 2), strides=(2,2)))\n",
    "model.add(Conv2d(64, (5,5), activation='relu'))\n",
    "model.add(MaxPooling2D(pool_size=(2, 2)))\n",
    "model.add(Flatten())\n",
    "\n",
    "model.add(Dense(1000, activation='relu'))\n",
    "model.add(Dense(num_classes, activation='softmax'))\n",
    "\n",
    "model.compile(loss=keras.losses.categorical_crossentropy,\n",
    "              optimizer=keras.optimizers.SGD(lr=0.01),\n",
    "              metrics=['accuracy'])\n",
    "\n",
    "model.fit(x_train, y_train,\n",
    "          batch_size=batch_size,\n",
    "          epochs=epochs,\n",
    "          verbose=1,\n",
    "          validation_data=(x_test, y_test),\n",
    "          callbacks=[history])"
   ]
  },
  {
   "cell_type": "code",
   "execution_count": null,
   "metadata": {
    "collapsed": true
   },
   "outputs": [],
   "source": []
  }
 ],
 "metadata": {
  "kernelspec": {
   "display_name": "Python 2",
   "language": "python",
   "name": "python2"
  },
  "language_info": {
   "codemirror_mode": {
    "name": "ipython",
    "version": 2
   },
   "file_extension": ".py",
   "mimetype": "text/x-python",
   "name": "python",
   "nbconvert_exporter": "python",
   "pygments_lexer": "ipython2",
   "version": "2.7.13"
  }
 },
 "nbformat": 4,
 "nbformat_minor": 2
}
